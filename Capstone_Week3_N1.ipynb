{
 "cells": [
  {
   "cell_type": "markdown",
   "metadata": {},
   "source": [
    "# Capstone Project: Notebook 1"
   ]
  },
  {
   "cell_type": "code",
   "execution_count": 1,
   "metadata": {},
   "outputs": [],
   "source": [
    "import pandas as pd\n",
    "import numpy as np"
   ]
  },
  {
   "cell_type": "markdown",
   "metadata": {},
   "source": [
    "##### I copied the Wikipedia datas into an Exel page. Then I saved that file in .cvs format as \"Toronto.csv\""
   ]
  },
  {
   "cell_type": "code",
   "execution_count": 2,
   "metadata": {},
   "outputs": [],
   "source": [
    "df = pd.read_csv('Toronto.csv')"
   ]
  },
  {
   "cell_type": "markdown",
   "metadata": {},
   "source": [
    "#### I replaced all the \"Not assigned\" values with the NaN and then I dropped all the Borough's NaN rows. Finally I reset the indices"
   ]
  },
  {
   "cell_type": "code",
   "execution_count": 3,
   "metadata": {},
   "outputs": [],
   "source": [
    "df.replace('Not assigned', np.nan, inplace = True)\n",
    "df.dropna(subset=[\"Borough\"], axis=0, inplace=True)\n",
    "df.reset_index(drop=True, inplace=True)"
   ]
  },
  {
   "cell_type": "markdown",
   "metadata": {},
   "source": [
    "#### If a cell has a Borough but a Not assigned neighborhood, then the neighborhood will be the same as the borough. So:"
   ]
  },
  {
   "cell_type": "code",
   "execution_count": 4,
   "metadata": {},
   "outputs": [],
   "source": [
    "df['Neighbourhood'].replace(np.nan, df['Borough'], inplace = True)"
   ]
  },
  {
   "cell_type": "markdown",
   "metadata": {},
   "source": [
    "#### Now, more than one neighborhood can exist in one postal code area:"
   ]
  },
  {
   "cell_type": "code",
   "execution_count": 5,
   "metadata": {},
   "outputs": [
    {
     "data": {
      "text/plain": [
       "M8Y    8\n",
       "M9V    8\n",
       "M5V    7\n",
       "M9B    5\n",
       "M8Z    5\n",
       "      ..\n",
       "M1X    1\n",
       "M5E    1\n",
       "M4M    1\n",
       "M4P    1\n",
       "M9A    1\n",
       "Name: Postcode, Length: 103, dtype: int64"
      ]
     },
     "execution_count": 5,
     "metadata": {},
     "output_type": "execute_result"
    }
   ],
   "source": [
    "df['Postcode'].value_counts()"
   ]
  },
  {
   "cell_type": "markdown",
   "metadata": {},
   "source": [
    "#### We need to cluster in a single row all the Neighbourhoods with the same Postcode:"
   ]
  },
  {
   "cell_type": "code",
   "execution_count": 6,
   "metadata": {},
   "outputs": [],
   "source": [
    "#The idea is the following: for each row \"i\" we search the \"j > i\" row with the same postcode.\n",
    "#Then we replace the Neighbourhood \"i\" value with the \"i ,j\" Neighbourhood value.\n",
    "#After we assign the NaN value to the Neighbourhood \"j\" in order to drop that row\n",
    "#Finally the index is reordered\n",
    "for i in range(0,df['Postcode'].count()):\n",
    "    for j in range(i+1, df['Postcode'].count()):\n",
    "        if (df['Postcode'][i]==df['Postcode'][j]):\n",
    "            df['Neighbourhood'][i] = df['Neighbourhood'][i] + ',' + df['Neighbourhood'][j]\n",
    "            df['Neighbourhood'][j] = np.nan\n",
    "    df.dropna(subset=[\"Neighbourhood\"], axis=0, inplace=True)\n",
    "    df.reset_index(drop=True, inplace=True)\n",
    "            "
   ]
  },
  {
   "cell_type": "markdown",
   "metadata": {},
   "source": [
    "#### Then I saved the correct table as \"Toronto_correct.csv\""
   ]
  },
  {
   "cell_type": "code",
   "execution_count": 7,
   "metadata": {},
   "outputs": [],
   "source": [
    "df.to_csv('Toronto_correct.csv')"
   ]
  },
  {
   "cell_type": "markdown",
   "metadata": {},
   "source": [
    "#### You can find the file in the GitHub repository"
   ]
  },
  {
   "cell_type": "markdown",
   "metadata": {},
   "source": [
    "#### You can verify the correctness:"
   ]
  },
  {
   "cell_type": "code",
   "execution_count": 8,
   "metadata": {},
   "outputs": [
    {
     "data": {
      "text/plain": [
       "M4G    1\n",
       "M4M    1\n",
       "M1L    1\n",
       "M1W    1\n",
       "M1K    1\n",
       "      ..\n",
       "M2L    1\n",
       "M6H    1\n",
       "M6N    1\n",
       "M3L    1\n",
       "M9A    1\n",
       "Name: Postcode, Length: 103, dtype: int64"
      ]
     },
     "execution_count": 8,
     "metadata": {},
     "output_type": "execute_result"
    }
   ],
   "source": [
    "df['Postcode'].value_counts()"
   ]
  }
 ],
 "metadata": {
  "kernelspec": {
   "display_name": "Python",
   "language": "python",
   "name": "conda-env-python-py"
  },
  "language_info": {
   "codemirror_mode": {
    "name": "ipython",
    "version": 3
   },
   "file_extension": ".py",
   "mimetype": "text/x-python",
   "name": "python",
   "nbconvert_exporter": "python",
   "pygments_lexer": "ipython3",
   "version": "3.6.7"
  }
 },
 "nbformat": 4,
 "nbformat_minor": 4
}
